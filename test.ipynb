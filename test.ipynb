{
 "cells": [
  {
   "cell_type": "code",
   "execution_count": null,
   "metadata": {},
   "outputs": [],
   "source": [
    "from google.cloud import aiplatform\n",
    "\n",
    "# Replace placeholders with your actual values\n",
    "project_id = \"thinking-text-371004\"\n",
    "region = \"us-central1\"\n",
    "model_display_name = \"my-gemini-model\"\n",
    "model_version = \"1.0\"\n",
    "model_uri = \"gs://your-bucket/your-model-path\"\n",
    "\n",
    "# Initialize the ModelServiceClient\n",
    "client = aiplatform.gapic.ModelServiceClient()\n",
    "\n",
    "# Construct the parent location\n",
    "parent = f\"projects/{project_id}/locations/{region}\"\n",
    "\n",
    "# Define the model configuration\n",
    "model = {\n",
    "    \"display_name\": model_display_name,\n",
    "    \"model_type\": \"TEXT\",\n",
    "    \"model_version\": model_version,\n",
    "    \"model_source\": {\n",
    "        \"model_uri\": model_uri,\n",
    "    },\n",
    "}\n",
    "\n",
    "# Create the model\n",
    "response = client.create_model(parent=parent, model=model)\n",
    "\n",
    "# Print the model's name\n",
    "print(f\"Model created: {response.name}\")\n"
   ]
  },
  {
   "cell_type": "code",
   "execution_count": 2,
   "metadata": {},
   "outputs": [
    {
     "ename": "AttributeError",
     "evalue": "module 'google.cloud.aiplatform.models' has no attribute 'TextModel'",
     "output_type": "error",
     "traceback": [
      "\u001b[0;31m---------------------------------------------------------------------------\u001b[0m",
      "\u001b[0;31mAttributeError\u001b[0m                            Traceback (most recent call last)",
      "Cell \u001b[0;32mIn[2], line 11\u001b[0m\n\u001b[1;32m      8\u001b[0m aiplatform\u001b[38;5;241m.\u001b[39minit(project\u001b[38;5;241m=\u001b[39mproject_id, location\u001b[38;5;241m=\u001b[39mregion)\n\u001b[1;32m     10\u001b[0m \u001b[38;5;66;03m# 創建一個 TextModel 客戶端，這裡假設 Gemini 是一個 TEXT 類型的模型\u001b[39;00m\n\u001b[0;32m---> 11\u001b[0m model \u001b[38;5;241m=\u001b[39m \u001b[43maiplatform\u001b[49m\u001b[38;5;241;43m.\u001b[39;49m\u001b[43mmodels\u001b[49m\u001b[38;5;241;43m.\u001b[39;49m\u001b[43mTextModel\u001b[49m(model_name\u001b[38;5;241m=\u001b[39m\u001b[38;5;124m\"\u001b[39m\u001b[38;5;124mgemini\u001b[39m\u001b[38;5;124m\"\u001b[39m)\n\u001b[1;32m     13\u001b[0m \u001b[38;5;66;03m# 設定輸入文字\u001b[39;00m\n\u001b[1;32m     14\u001b[0m input_text \u001b[38;5;241m=\u001b[39m \u001b[38;5;124m\"\u001b[39m\u001b[38;5;124mintroduce yourself\u001b[39m\u001b[38;5;124m\"\u001b[39m\n",
      "\u001b[0;31mAttributeError\u001b[0m: module 'google.cloud.aiplatform.models' has no attribute 'TextModel'"
     ]
    }
   ],
   "source": [
    "from google.cloud import aiplatform\n",
    "\n",
    "# 設定專案和區域\n",
    "project_id = \"thinking-text-371004\"\n",
    "region = \"asia-east1\"  # 根據需求選擇區域\n",
    "\n",
    "# 初始化 Vertex AI 客戶端\n",
    "aiplatform.init(project=project_id, location=region)\n",
    "\n",
    "# 創建一個 TextModel 客戶端，這裡假設 Gemini 是一個 TEXT 類型的模型\n",
    "model = aiplatform.models.TextModel(model_name=\"gemini\")\n",
    "\n",
    "# 設定輸入文字\n",
    "input_text = \"introduce yourself\"\n",
    "\n",
    "# 使用模型進行推論\n",
    "response = model.predict([input_text])\n",
    "\n",
    "\n",
    "# 打印結果\n",
    "response"
   ]
  },
  {
   "cell_type": "code",
   "execution_count": null,
   "metadata": {},
   "outputs": [],
   "source": []
  },
  {
   "cell_type": "code",
   "execution_count": null,
   "metadata": {},
   "outputs": [],
   "source": []
  }
 ],
 "metadata": {
  "kernelspec": {
   "display_name": ".venv",
   "language": "python",
   "name": "python3"
  },
  "language_info": {
   "codemirror_mode": {
    "name": "ipython",
    "version": 3
   },
   "file_extension": ".py",
   "mimetype": "text/x-python",
   "name": "python",
   "nbconvert_exporter": "python",
   "pygments_lexer": "ipython3",
   "version": "3.10.14"
  }
 },
 "nbformat": 4,
 "nbformat_minor": 2
}
